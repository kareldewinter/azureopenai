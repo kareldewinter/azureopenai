{
 "cells": [
  {
   "cell_type": "code",
   "execution_count": null,
   "metadata": {},
   "outputs": [],
   "source": [
    "import os\n",
    "import openai"
   ]
  },
  {
   "cell_type": "code",
   "execution_count": null,
   "metadata": {},
   "outputs": [],
   "source": [
    "openai.api_key = os.getenv(\"AZURE_OAI_KEY\")\n",
    "openai.api_base =  os.getenv(\"AZURE_OAI_ENDPOINT\")\n",
    "openai.api_type = 'azure' # Necessary for using the OpenAI library with Azure OpenAI\n",
    "openai.api_version = '2023-08-01-preview' # Latest / target version of the API"
   ]
  },
  {
   "cell_type": "code",
   "execution_count": null,
   "metadata": {},
   "outputs": [],
   "source": [
    "deployment_name = os.getenv(\"AZURE_OAI_MODEL\") # SDK calls this \"engine\", but naming it \"deployment_name\" for clarity"
   ]
  },
  {
   "cell_type": "code",
   "execution_count": null,
   "metadata": {},
   "outputs": [],
   "source": [
    "print(deployment_name)"
   ]
  },
  {
   "cell_type": "code",
   "execution_count": null,
   "metadata": {},
   "outputs": [],
   "source": [
    "start_phrase = 'What is Azure OpenAI ? '\n",
    "response = openai.ChatCompletion.create(\n",
    "    engine=deployment_name, max_tokens=50, temperature=0.7,\n",
    "    messages=[\n",
    "        {\"role\": \"system\", \"content\": \"You are a helpful assistant.\"},\n",
    "        {\"role\": \"user\", \"content\": \"What is Azure OpenAI?\"}\n",
    "    ]\n",
    "    )\n",
    "# text = response['choices'][0]['text'].replace('\\n', '').replace(' .', '.').strip()\n",
    "# text = response['choices'][0]['text'].strip()\n",
    "print(response['choices'][0]['message']['content'])\n"
   ]
  },
  {
   "cell_type": "code",
   "execution_count": null,
   "metadata": {},
   "outputs": [],
   "source": []
  }
 ],
 "metadata": {
  "kernelspec": {
   "display_name": "Python 3",
   "language": "python",
   "name": "python3"
  },
  "language_info": {
   "codemirror_mode": {
    "name": "ipython",
    "version": 3
   },
   "file_extension": ".py",
   "mimetype": "text/x-python",
   "name": "python",
   "nbconvert_exporter": "python",
   "pygments_lexer": "ipython3",
   "version": "3.12.0"
  }
 },
 "nbformat": 4,
 "nbformat_minor": 2
}
